{
 "cells": [
  {
   "cell_type": "code",
   "execution_count": 1,
   "id": "f17be4a2",
   "metadata": {},
   "outputs": [
    {
     "name": "stderr",
     "output_type": "stream",
     "text": [
      "d:\\xai_framework\\XAI-Framework\\.venv\\Lib\\site-packages\\tqdm\\auto.py:21: TqdmWarning: IProgress not found. Please update jupyter and ipywidgets. See https://ipywidgets.readthedocs.io/en/stable/user_install.html\n",
      "  from .autonotebook import tqdm as notebook_tqdm\n"
     ]
    }
   ],
   "source": [
    "import numpy as np\n",
    "import pandas as pd\n",
    "import matplotlib.pyplot as plt\n",
    "import seaborn as sns\n",
    "from sklearn.tree import DecisionTreeClassifier\n",
    "from sklearn.svm import SVC\n",
    "from sklearn.neural_network import MLPClassifier\n",
    "from sklearn.datasets import load_iris\n",
    "from sklearn.model_selection import train_test_split\n",
    "from sklearn.metrics import accuracy_score\n",
    "import shap\n",
    "from lime.lime_tabular import LimeTabularExplainer"
   ]
  },
  {
   "cell_type": "code",
   "execution_count": 2,
   "id": "b9c83d21",
   "metadata": {},
   "outputs": [],
   "source": [
    "# Load Dataset\n",
    "data = load_iris()\n",
    "X, y = data.data, data.target\n",
    "feature_names = data.feature_names\n",
    "class_names = data.target_names\n",
    "\n",
    "# Split Dataset\n",
    "X_train, X_test, y_train, y_test = train_test_split(X, y, test_size=0.3, random_state=42)"
   ]
  },
  {
   "cell_type": "code",
   "execution_count": 3,
   "id": "bd366873",
   "metadata": {},
   "outputs": [],
   "source": [
    "# Train Decision Tree Model\n",
    "def train_decision_tree(X_train, y_train):\n",
    "    model = DecisionTreeClassifier(random_state=42)\n",
    "    model.fit(X_train, y_train)\n",
    "    return model\n",
    "\n",
    "# Train SVM Model\n",
    "def train_svm(X_train, y_train):\n",
    "    model = SVC(probability=True, random_state=42)\n",
    "    model.fit(X_train, y_train)\n",
    "    return model\n",
    "\n",
    "# Train Neural Network Model\n",
    "def train_neural_network(X_train, y_train):\n",
    "    model = MLPClassifier(random_state=42, max_iter=1000)\n",
    "    model.fit(X_train, y_train)\n",
    "    return model"
   ]
  },
  {
   "cell_type": "code",
   "execution_count": 4,
   "id": "23173594",
   "metadata": {},
   "outputs": [],
   "source": [
    "# Explain Model Using SHAP\n",
    "def explain_with_shap(model, X, feature_names):\n",
    "    # Convert X to a DataFrame to maintain proper feature names\n",
    "    X_df = pd.DataFrame(X, columns=feature_names)\n",
    "    explainer = shap.Explainer(model, X_df)\n",
    "    shap_values = explainer(X_df)\n",
    "    \n",
    "    # Ensure that feature_names is a list or array with correct length\n",
    "    if isinstance(feature_names, list) or isinstance(feature_names, np.ndarray):\n",
    "        shap.summary_plot(shap_values, X_df, feature_names=feature_names)\n",
    "    else:\n",
    "        print(\"Feature names must be a list or ndarray.\")\n",
    "\n",
    "# Explain Model Using LIME\n",
    "def explain_with_lime(model, X_train, X_test, feature_names, class_names):\n",
    "    explainer = LimeTabularExplainer(X_train, feature_names=feature_names, class_names=class_names, discretize_continuous=True)\n",
    "    explanation = explainer.explain_instance(X_test[0], model.predict_proba, num_features=len(feature_names))\n",
    "    explanation.show_in_notebook()"
   ]
  },
  {
   "cell_type": "code",
   "execution_count": 5,
   "id": "198152b8",
   "metadata": {},
   "outputs": [],
   "source": [
    "# Visualize Feature Importance (Decision Trees Only)\n",
    "def plot_feature_importance(model, feature_names):\n",
    "    if hasattr(model, 'feature_importances_'):\n",
    "        importance = model.feature_importances_\n",
    "        sns.barplot(x=importance, y=feature_names)\n",
    "        plt.title(\"Feature Importance\")\n",
    "        plt.show()\n",
    "    else:\n",
    "        print(\"Feature importance is not available for this model.\")"
   ]
  },
  {
   "cell_type": "code",
   "execution_count": 6,
   "id": "dc05bbff",
   "metadata": {},
   "outputs": [
    {
     "name": "stdout",
     "output_type": "stream",
     "text": [
      "Decision Tree Accuracy: 1.00\n",
      "SVM Accuracy: 1.00\n",
      "Neural Network Accuracy: 1.00\n",
      "\n",
      "Explaining Decision Tree with SHAP...\n"
     ]
    },
    {
     "ename": "TypeError",
     "evalue": "only integer scalar arrays can be converted to a scalar index",
     "output_type": "error",
     "traceback": [
      "\u001b[1;31m---------------------------------------------------------------------------\u001b[0m",
      "\u001b[1;31mTypeError\u001b[0m                                 Traceback (most recent call last)",
      "Cell \u001b[1;32mIn[6], line 15\u001b[0m\n\u001b[0;32m     13\u001b[0m \u001b[38;5;66;03m# Explain Decision Tree with SHAP\u001b[39;00m\n\u001b[0;32m     14\u001b[0m \u001b[38;5;28mprint\u001b[39m(\u001b[38;5;124m\"\u001b[39m\u001b[38;5;130;01m\\n\u001b[39;00m\u001b[38;5;124mExplaining Decision Tree with SHAP...\u001b[39m\u001b[38;5;124m\"\u001b[39m)\n\u001b[1;32m---> 15\u001b[0m \u001b[43mexplain_with_shap\u001b[49m\u001b[43m(\u001b[49m\u001b[43mdt_model\u001b[49m\u001b[43m,\u001b[49m\u001b[43m \u001b[49m\u001b[43mX\u001b[49m\u001b[43m,\u001b[49m\u001b[43m \u001b[49m\u001b[43mfeature_names\u001b[49m\u001b[43m)\u001b[49m\n\u001b[0;32m     17\u001b[0m \u001b[38;5;66;03m# Explain SVM with LIME\u001b[39;00m\n\u001b[0;32m     18\u001b[0m \u001b[38;5;28mprint\u001b[39m(\u001b[38;5;124m\"\u001b[39m\u001b[38;5;130;01m\\n\u001b[39;00m\u001b[38;5;124mExplaining SVM with LIME...\u001b[39m\u001b[38;5;124m\"\u001b[39m)\n",
      "Cell \u001b[1;32mIn[4], line 6\u001b[0m, in \u001b[0;36mexplain_with_shap\u001b[1;34m(model, X, feature_names)\u001b[0m\n\u001b[0;32m      4\u001b[0m explainer \u001b[38;5;241m=\u001b[39m shap\u001b[38;5;241m.\u001b[39mExplainer(model, X_df)\n\u001b[0;32m      5\u001b[0m shap_values \u001b[38;5;241m=\u001b[39m explainer(X_df)\n\u001b[1;32m----> 6\u001b[0m \u001b[43mshap\u001b[49m\u001b[38;5;241;43m.\u001b[39;49m\u001b[43msummary_plot\u001b[49m\u001b[43m(\u001b[49m\u001b[43mshap_values\u001b[49m\u001b[43m,\u001b[49m\u001b[43m \u001b[49m\u001b[43mX_df\u001b[49m\u001b[43m,\u001b[49m\u001b[43m \u001b[49m\u001b[43mfeature_names\u001b[49m\u001b[38;5;241;43m=\u001b[39;49m\u001b[43mfeature_names\u001b[49m\u001b[43m)\u001b[49m\n",
      "File \u001b[1;32md:\\xai_framework\\XAI-Framework\\.venv\\Lib\\site-packages\\shap\\plots\\_beeswarm.py:595\u001b[0m, in \u001b[0;36msummary_legacy\u001b[1;34m(shap_values, features, feature_names, max_display, plot_type, color, axis_color, title, alpha, show, sort, color_bar, plot_size, layered_violin_max_num_bins, class_names, class_inds, color_bar_label, cmap, show_values_in_legend, use_log_scale)\u001b[0m\n\u001b[0;32m    591\u001b[0m proj_shap_values \u001b[38;5;241m=\u001b[39m shap_values[:, sort_inds[\u001b[38;5;241m0\u001b[39m], sort_inds]\n\u001b[0;32m    592\u001b[0m proj_shap_values[:, \u001b[38;5;241m1\u001b[39m:] \u001b[38;5;241m*\u001b[39m\u001b[38;5;241m=\u001b[39m \u001b[38;5;241m2\u001b[39m  \u001b[38;5;66;03m# because off diag effects are split in half\u001b[39;00m\n\u001b[0;32m    593\u001b[0m summary_legacy(\n\u001b[0;32m    594\u001b[0m     proj_shap_values, features[:, sort_inds] \u001b[38;5;28;01mif\u001b[39;00m features \u001b[38;5;129;01mis\u001b[39;00m \u001b[38;5;129;01mnot\u001b[39;00m \u001b[38;5;28;01mNone\u001b[39;00m \u001b[38;5;28;01melse\u001b[39;00m \u001b[38;5;28;01mNone\u001b[39;00m,\n\u001b[1;32m--> 595\u001b[0m     feature_names\u001b[38;5;241m=\u001b[39m\u001b[43mfeature_names\u001b[49m\u001b[43m[\u001b[49m\u001b[43msort_inds\u001b[49m\u001b[43m]\u001b[49m,\n\u001b[0;32m    596\u001b[0m     sort\u001b[38;5;241m=\u001b[39m\u001b[38;5;28;01mFalse\u001b[39;00m, show\u001b[38;5;241m=\u001b[39m\u001b[38;5;28;01mFalse\u001b[39;00m, color_bar\u001b[38;5;241m=\u001b[39m\u001b[38;5;28;01mFalse\u001b[39;00m,\n\u001b[0;32m    597\u001b[0m     plot_size\u001b[38;5;241m=\u001b[39m\u001b[38;5;28;01mNone\u001b[39;00m,\n\u001b[0;32m    598\u001b[0m     max_display\u001b[38;5;241m=\u001b[39mmax_display\n\u001b[0;32m    599\u001b[0m )\n\u001b[0;32m    600\u001b[0m pl\u001b[38;5;241m.\u001b[39mxlim((slow, shigh))\n\u001b[0;32m    601\u001b[0m pl\u001b[38;5;241m.\u001b[39mxlabel(\u001b[38;5;124m\"\u001b[39m\u001b[38;5;124m\"\u001b[39m)\n",
      "\u001b[1;31mTypeError\u001b[0m: only integer scalar arrays can be converted to a scalar index"
     ]
    },
    {
     "data": {
      "image/png": "[encoded data removed]",
      "text/plain": [
       "<Figure size 1150x660 with 1 Axes>"
      ]
     },
     "metadata": {},
     "output_type": "display_data"
    }
   ],
   "source": [
    "# Main Workflow\n",
    "if __name__ == \"__main__\":\n",
    "    # Train models\n",
    "    dt_model = train_decision_tree(X_train, y_train)\n",
    "    svm_model = train_svm(X_train, y_train)\n",
    "    nn_model = train_neural_network(X_train, y_train)\n",
    "\n",
    "    # Evaluate models\n",
    "    for name, model in zip([\"Decision Tree\", \"SVM\", \"Neural Network\"], [dt_model, svm_model, nn_model]):\n",
    "        y_pred = model.predict(X_test)\n",
    "        print(f\"{name} Accuracy: {accuracy_score(y_test, y_pred):.2f}\")\n",
    "\n",
    "    # Explain Decision Tree with SHAP\n",
    "    print(\"\\nExplaining Decision Tree with SHAP...\")\n",
    "    explain_with_shap(dt_model, X, feature_names)\n",
    "\n",
    "    # Explain SVM with LIME\n",
    "    print(\"\\nExplaining SVM with LIME...\")\n",
    "    explain_with_lime(svm_model, X_train, X_test, feature_names, class_names)\n",
    "\n",
    "    # Visualize Feature Importance for Decision Tree\n",
    "    print(\"\\nVisualizing Feature Importance for Decision Tree...\")\n",
    "    plot_feature_importance(dt_model, feature_names)\n"
   ]
  }
 ],
 "metadata": {
  "kernelspec": {
   "display_name": ".venv",
   "language": "python",
   "name": "python3"
  },
  "language_info": {
   "codemirror_mode": {
    "name": "ipython",
    "version": 3
   },
   "file_extension": ".py",
   "mimetype": "text/x-python",
   "name": "python",
   "nbconvert_exporter": "python",
   "pygments_lexer": "ipython3",
   "version": "3.11.9"
  }
 },
 "nbformat": 4,
 "nbformat_minor": 5
}
