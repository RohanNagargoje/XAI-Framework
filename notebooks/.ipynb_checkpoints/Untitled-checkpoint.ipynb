{
 "cells": [
  {
   "cell_type": "code",
   "execution_count": 3,
   "id": "9cec4fa7-4a79-4b0c-9a4a-c9cf8aa90604",
   "metadata": {},
   "outputs": [
    {
     "ename": "ModuleNotFoundError",
     "evalue": "No module named 'models'",
     "output_type": "error",
     "traceback": [
      "\u001b[1;31m---------------------------------------------------------------------------\u001b[0m",
      "\u001b[1;31mModuleNotFoundError\u001b[0m                       Traceback (most recent call last)",
      "Cell \u001b[1;32mIn[3], line 2\u001b[0m\n\u001b[0;32m      1\u001b[0m \u001b[38;5;66;03m# Import the framework's modules\u001b[39;00m\n\u001b[1;32m----> 2\u001b[0m \u001b[38;5;28;01mfrom\u001b[39;00m\u001b[38;5;250m \u001b[39m\u001b[38;5;21;01mmodels\u001b[39;00m\u001b[38;5;21;01m.\u001b[39;00m\u001b[38;5;21;01mdecision_tree\u001b[39;00m\u001b[38;5;250m \u001b[39m\u001b[38;5;28;01mimport\u001b[39;00m DecisionTreeModel\n\u001b[0;32m      3\u001b[0m \u001b[38;5;28;01mfrom\u001b[39;00m\u001b[38;5;250m \u001b[39m\u001b[38;5;21;01mexplainers\u001b[39;00m\u001b[38;5;21;01m.\u001b[39;00m\u001b[38;5;21;01mshap_explainer\u001b[39;00m\u001b[38;5;250m \u001b[39m\u001b[38;5;28;01mimport\u001b[39;00m SHAPExplainer\n\u001b[0;32m      4\u001b[0m \u001b[38;5;28;01mfrom\u001b[39;00m\u001b[38;5;250m \u001b[39m\u001b[38;5;21;01mexplainers\u001b[39;00m\u001b[38;5;21;01m.\u001b[39;00m\u001b[38;5;21;01mlime_explainer\u001b[39;00m\u001b[38;5;250m \u001b[39m\u001b[38;5;28;01mimport\u001b[39;00m LIMEExplainer\n",
      "\u001b[1;31mModuleNotFoundError\u001b[0m: No module named 'models'"
     ]
    }
   ],
   "source": [
    "# Import the framework's modules\n",
    "from models.decision_tree import DecisionTreeModel\n",
    "from explainers.shap_explainer import SHAPExplainer\n",
    "from explainers.lime_explainer import LIMEExplainer\n",
    "\n",
    "# Import data utilities\n",
    "from sklearn.datasets import load_iris\n",
    "from sklearn.model_selection import train_test_split\n",
    "\n",
    "# Visualization tools\n",
    "import matplotlib.pyplot as plt\n",
    "import seaborn as sns\n",
    "import sys\n",
    "import os\n",
    "\n",
    "# Add the root directory of the project to the Python path\n",
    "project_root = os.path.abspath(os.path.join(os.getcwd(), \"..\"))\n",
    "sys.path.append(project_root)\n",
    "\n",
    "# Verify the path\n",
    "print(\"Current Python path:\", sys.path)"
   ]
  },
  {
   "cell_type": "code",
   "execution_count": 4,
   "id": "539b7fe3-d282-46ad-8f15-0a840165e795",
   "metadata": {},
   "outputs": [
    {
     "ename": "NameError",
     "evalue": "name 'load_iris' is not defined",
     "output_type": "error",
     "traceback": [
      "\u001b[1;31m---------------------------------------------------------------------------\u001b[0m",
      "\u001b[1;31mNameError\u001b[0m                                 Traceback (most recent call last)",
      "Cell \u001b[1;32mIn[4], line 2\u001b[0m\n\u001b[0;32m      1\u001b[0m \u001b[38;5;66;03m# Load the Iris dataset\u001b[39;00m\n\u001b[1;32m----> 2\u001b[0m data \u001b[38;5;241m=\u001b[39m \u001b[43mload_iris\u001b[49m()\n\u001b[0;32m      3\u001b[0m X \u001b[38;5;241m=\u001b[39m data\u001b[38;5;241m.\u001b[39mdata\n\u001b[0;32m      4\u001b[0m y \u001b[38;5;241m=\u001b[39m data\u001b[38;5;241m.\u001b[39mtarget\n",
      "\u001b[1;31mNameError\u001b[0m: name 'load_iris' is not defined"
     ]
    }
   ],
   "source": [
    "# Load the Iris dataset\n",
    "data = load_iris()\n",
    "X = data.data\n",
    "y = data.target\n",
    "\n",
    "# Split into train and test sets\n",
    "X_train, X_test, y_train, y_test = train_test_split(X, y, test_size=0.2, random_state=42)\n",
    "\n",
    "print(\"Dataset loaded. Training samples:\", X_train.shape[0])"
   ]
  },
  {
   "cell_type": "code",
   "execution_count": 5,
   "id": "fbc5b2e2-6727-4f46-8be0-1b364cf68f22",
   "metadata": {},
   "outputs": [
    {
     "ename": "NameError",
     "evalue": "name 'DecisionTreeModel' is not defined",
     "output_type": "error",
     "traceback": [
      "\u001b[1;31m---------------------------------------------------------------------------\u001b[0m",
      "\u001b[1;31mNameError\u001b[0m                                 Traceback (most recent call last)",
      "Cell \u001b[1;32mIn[5], line 2\u001b[0m\n\u001b[0;32m      1\u001b[0m \u001b[38;5;66;03m# Initialize and train the Decision Tree model\u001b[39;00m\n\u001b[1;32m----> 2\u001b[0m decision_tree \u001b[38;5;241m=\u001b[39m \u001b[43mDecisionTreeModel\u001b[49m()\n\u001b[0;32m      3\u001b[0m decision_tree\u001b[38;5;241m.\u001b[39mtrain(X_train, y_train)\n\u001b[0;32m      5\u001b[0m \u001b[38;5;66;03m# Evaluate the model\u001b[39;00m\n",
      "\u001b[1;31mNameError\u001b[0m: name 'DecisionTreeModel' is not defined"
     ]
    }
   ],
   "source": [
    "# Initialize and train the Decision Tree model\n",
    "decision_tree = DecisionTreeModel()\n",
    "decision_tree.train(X_train, y_train)\n",
    "\n",
    "# Evaluate the model\n",
    "accuracy = decision_tree.evaluate(X_test, y_test)\n",
    "print(f\"Decision Tree Accuracy: {accuracy * 100:.2f}%\")"
   ]
  },
  {
   "cell_type": "code",
   "execution_count": 6,
   "id": "3b3365fa-7703-4e5e-98bf-3503a11beaff",
   "metadata": {},
   "outputs": [
    {
     "ename": "NameError",
     "evalue": "name 'SHAPExplainer' is not defined",
     "output_type": "error",
     "traceback": [
      "\u001b[1;31m---------------------------------------------------------------------------\u001b[0m",
      "\u001b[1;31mNameError\u001b[0m                                 Traceback (most recent call last)",
      "Cell \u001b[1;32mIn[6], line 2\u001b[0m\n\u001b[0;32m      1\u001b[0m \u001b[38;5;66;03m# Initialize SHAP Explainer\u001b[39;00m\n\u001b[1;32m----> 2\u001b[0m shap_explainer \u001b[38;5;241m=\u001b[39m \u001b[43mSHAPExplainer\u001b[49m(decision_tree\u001b[38;5;241m.\u001b[39mmodel, X_train)\n\u001b[0;32m      4\u001b[0m \u001b[38;5;66;03m# Explain a single instance\u001b[39;00m\n\u001b[0;32m      5\u001b[0m instance_to_explain \u001b[38;5;241m=\u001b[39m X_test[\u001b[38;5;241m0\u001b[39m]\n",
      "\u001b[1;31mNameError\u001b[0m: name 'SHAPExplainer' is not defined"
     ]
    }
   ],
   "source": [
    "# Initialize SHAP Explainer\n",
    "shap_explainer = SHAPExplainer(decision_tree.model, X_train)\n",
    "\n",
    "# Explain a single instance\n",
    "instance_to_explain = X_test[0]\n",
    "shap_explainer.explain_instance(instance_to_explain)\n",
    "\n",
    "# Visualize global feature importance\n",
    "shap_explainer.plot_summary()"
   ]
  },
  {
   "cell_type": "code",
   "execution_count": 7,
   "id": "d68240d0-53cc-4700-8b75-1c707dd0fa95",
   "metadata": {},
   "outputs": [
    {
     "ename": "NameError",
     "evalue": "name 'LIMEExplainer' is not defined",
     "output_type": "error",
     "traceback": [
      "\u001b[1;31m---------------------------------------------------------------------------\u001b[0m",
      "\u001b[1;31mNameError\u001b[0m                                 Traceback (most recent call last)",
      "Cell \u001b[1;32mIn[7], line 2\u001b[0m\n\u001b[0;32m      1\u001b[0m \u001b[38;5;66;03m# Initialize LIME Explainer\u001b[39;00m\n\u001b[1;32m----> 2\u001b[0m lime_explainer \u001b[38;5;241m=\u001b[39m \u001b[43mLIMEExplainer\u001b[49m(decision_tree\u001b[38;5;241m.\u001b[39mmodel, X_train)\n\u001b[0;32m      4\u001b[0m \u001b[38;5;66;03m# Explain a single instance\u001b[39;00m\n\u001b[0;32m      5\u001b[0m lime_explainer\u001b[38;5;241m.\u001b[39mexplain_instance(instance_to_explain)\n",
      "\u001b[1;31mNameError\u001b[0m: name 'LIMEExplainer' is not defined"
     ]
    }
   ],
   "source": [
    "# Initialize LIME Explainer\n",
    "lime_explainer = LIMEExplainer(decision_tree.model, X_train)\n",
    "\n",
    "# Explain a single instance\n",
    "lime_explainer.explain_instance(instance_to_explain)"
   ]
  },
  {
   "cell_type": "code",
   "execution_count": 8,
   "id": "de02c9f8-b878-418b-9862-9db9fe533103",
   "metadata": {},
   "outputs": [
    {
     "ename": "NameError",
     "evalue": "name 'decision_tree' is not defined",
     "output_type": "error",
     "traceback": [
      "\u001b[1;31m---------------------------------------------------------------------------\u001b[0m",
      "\u001b[1;31mNameError\u001b[0m                                 Traceback (most recent call last)",
      "Cell \u001b[1;32mIn[8], line 2\u001b[0m\n\u001b[0;32m      1\u001b[0m \u001b[38;5;66;03m# Example: Visualizing feature importance\u001b[39;00m\n\u001b[1;32m----> 2\u001b[0m importance \u001b[38;5;241m=\u001b[39m \u001b[43mdecision_tree\u001b[49m\u001b[38;5;241m.\u001b[39mget_feature_importance()\n\u001b[0;32m      3\u001b[0m sns\u001b[38;5;241m.\u001b[39mbarplot(x\u001b[38;5;241m=\u001b[39mimportance, y\u001b[38;5;241m=\u001b[39mdata\u001b[38;5;241m.\u001b[39mfeature_names)\n\u001b[0;32m      4\u001b[0m plt\u001b[38;5;241m.\u001b[39mtitle(\u001b[38;5;124m\"\u001b[39m\u001b[38;5;124mFeature Importance\u001b[39m\u001b[38;5;124m\"\u001b[39m)\n",
      "\u001b[1;31mNameError\u001b[0m: name 'decision_tree' is not defined"
     ]
    }
   ],
   "source": [
    "# Example: Visualizing feature importance\n",
    "importance = decision_tree.get_feature_importance()\n",
    "sns.barplot(x=importance, y=data.feature_names)\n",
    "plt.title(\"Feature Importance\")\n",
    "plt.show()"
   ]
  }
 ],
 "metadata": {
  "kernelspec": {
   "display_name": "Python 3 (ipykernel)",
   "language": "python",
   "name": "python3"
  },
  "language_info": {
   "codemirror_mode": {
    "name": "ipython",
    "version": 3
   },
   "file_extension": ".py",
   "mimetype": "text/x-python",
   "name": "python",
   "nbconvert_exporter": "python",
   "pygments_lexer": "ipython3",
   "version": "3.11.9"
  }
 },
 "nbformat": 4,
 "nbformat_minor": 5
}
